{
 "cells": [
  {
   "cell_type": "code",
   "execution_count": 13,
   "metadata": {},
   "outputs": [],
   "source": [
    "import numpy as np\n",
    "import pandas as pd\n",
    "import matplotlib.pyplot as plt\n",
    "import seaborn as sns\n",
    "import math\n",
    "import random\n"
   ]
  },
  {
   "cell_type": "markdown",
   "metadata": {},
   "source": [
    "# Notes on Mathematical Statistics\n",
    "\n",
    "Main reference: Intro to Mathematical Statistics by Hogg\n",
    "\n"
   ]
  },
  {
   "cell_type": "markdown",
   "metadata": {},
   "source": [
    "# 1.1 Introduction\n",
    "\n",
    "This is content from your first year probability course\n",
    "## Definitions:\n",
    "**Random Experiment**:\n",
    "\n",
    "**Sample Space**: $\\mathcal{C}$\n",
    "\n",
    "### Example 1.1.1\n",
    "Coin toss\n",
    "\n",
    "### Example 1.1.2\n",
    "Roll die\n",
    "\n"
   ]
  },
  {
   "cell_type": "code",
   "execution_count": 22,
   "metadata": {},
   "outputs": [],
   "source": [
    "#Example 1.1.1: Coin Toss\n",
    "def probability_k_heads(k, n):\n",
    "  \"\"\"Calculates the probability of getting k heads in n coin tosses.\n",
    "\n",
    "  Args:\n",
    "    n: The number of coin tosses.\n",
    "    k: The number of heads.\n",
    "\n",
    "  Returns:\n",
    "    The probability of getting k heads in n tosses, or 0 if the input is invalid.\n",
    "  \"\"\"\n",
    "  if not isinstance(n, int) or not isinstance(k, int) or n < 0 or k < 0 or k > n:\n",
    "    return 0  # Handle invalid inputs\n",
    "\n",
    "  combinations = math.comb(n, k)\n",
    "  probability = combinations * (0.5 ** n)\n",
    "\n",
    "  return probability\n",
    "\n",
    "\n",
    "#Example 1.1.2: Roll die\n",
    "#n times, k sides\n",
    "\n",
    "def roll_dice(j, k, n):\n",
    "  \"\"\"Rolls j dice with k sides n times.\n",
    "\n",
    "  Args:\n",
    "    j: The number of dice.\n",
    "    k: The number of sides on each die.\n",
    "    n: The number of times to roll the dice.\n",
    "\n",
    "  Returns:\n",
    "    A list of lists, where each inner list represents the outcome of a single roll of j dice.\n",
    "  \"\"\"\n",
    "  results = []\n",
    "  for _ in range(n):\n",
    "    roll_results = []\n",
    "    for _ in range(j):\n",
    "      roll_results.append(random.randint(1, k))\n",
    "    results.append(roll_results)\n",
    "  return results\n"
   ]
  },
  {
   "cell_type": "code",
   "execution_count": 23,
   "metadata": {},
   "outputs": [
    {
     "name": "stdout",
     "output_type": "stream",
     "text": [
      "0.25\n",
      "[[4, 2], [2, 2], [5, 5], [5, 2], [2, 3], [3, 5], [2, 3], [3, 4], [1, 4], [1, 2]]\n"
     ]
    }
   ],
   "source": [
    "print(probability_k_heads(1,4))\n",
    "print(roll_dice(2,5,10))\n"
   ]
  },
  {
   "cell_type": "markdown",
   "metadata": {},
   "source": [
    "### Example 1.1.3\n",
    "Every time pair of die roll sum is equal to seven."
   ]
  },
  {
   "cell_type": "code",
   "execution_count": null,
   "metadata": {},
   "outputs": [],
   "source": [
    "#Example 1.1.3: Dice roll sum\n"
   ]
  },
  {
   "cell_type": "markdown",
   "metadata": {},
   "source": [
    "### Remark 1.1.1\n",
    "This interpretation of probability is referred to as *relative frequency approach* and it obviously depends upon the fact that an experiment can be repeated under essentially identical conditions."
   ]
  },
  {
   "cell_type": "markdown",
   "metadata": {},
   "source": [
    "# 1.2 Sets\n",
    "\n",
    "## DeMorgan's Laws\n",
    "\n",
    "\\begin{align}\n",
    "(A \\cap B)^c = A^c \\cup B^c \\\\\n",
    "(A \\cup B)^c = A^c \\cap B^c\n",
    "\\end{align}"
   ]
  }
 ],
 "metadata": {
  "kernelspec": {
   "display_name": "venv",
   "language": "python",
   "name": "python3"
  },
  "language_info": {
   "codemirror_mode": {
    "name": "ipython",
    "version": 3
   },
   "file_extension": ".py",
   "mimetype": "text/x-python",
   "name": "python",
   "nbconvert_exporter": "python",
   "pygments_lexer": "ipython3",
   "version": "3.10.12"
  }
 },
 "nbformat": 4,
 "nbformat_minor": 2
}
